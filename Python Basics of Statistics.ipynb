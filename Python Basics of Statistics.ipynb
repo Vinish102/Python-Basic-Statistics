{
 "cells": [
  {
   "cell_type": "markdown",
   "id": "1668ea2e",
   "metadata": {},
   "source": [
    "Basics of Statistics"
   ]
  },
  {
   "cell_type": "code",
   "execution_count": 1,
   "id": "07ebc9f6",
   "metadata": {},
   "outputs": [],
   "source": [
    "#Q1)  Explain the different types of data (qualitative and quantitative) and provide examples of each. \n",
    "#Discuss nominal, ordinal, interval, and ratio scales."
   ]
  },
  {
   "cell_type": "code",
   "execution_count": 2,
   "id": "6451d519",
   "metadata": {},
   "outputs": [
    {
     "data": {
      "text/plain": [
       "'\\nData can be categorized into two main types: qualitative and quantitative.\\n\\nQualitative Data:\\nQualitative data describes characteristics or qualities and is non-numeric. It can be further divided into:\\n\\nNominal Scale:\\n\\nDefinition: Represents categories without any order or ranking.\\nExamples: Colors (red, blue, green), gender (male, female), types of animals (dog, cat, bird).\\nOrdinal Scale:\\n\\nDefinition: Represents categories with a meaningful order or ranking, but the intervals between ranks are not equal.\\nExamples: Education level (high school, bachelor’s, master’s), satisfaction ratings (satisfied, neutral, dissatisfied).\\nQuantitative Data:\\nQuantitative data represents numerical values and can be measured. It is divided into:\\n\\nInterval Scale:\\n\\nDefinition: Numeric scale with equal intervals between values, but no true zero point.\\nExamples: Temperature in Celsius or Fahrenheit, calendar years (2000, 2001, 2002).\\nRatio Scale:\\n\\nDefinition: Numeric scale with equal intervals and a true zero point, allowing for meaningful comparisons of ratios.\\nExamples: Height, weight, age, income.\\nUnderstanding these data types and scales is crucial for selecting appropriate statistical methods and visualizations.\\n'"
      ]
     },
     "execution_count": 2,
     "metadata": {},
     "output_type": "execute_result"
    }
   ],
   "source": [
    "\"\"\"\n",
    "Data can be categorized into two main types: qualitative and quantitative.\n",
    "\n",
    "Qualitative Data:\n",
    "Qualitative data describes characteristics or qualities and is non-numeric. It can be further divided into:\n",
    "\n",
    "Nominal Scale:\n",
    "\n",
    "Definition: Represents categories without any order or ranking.\n",
    "Examples: Colors (red, blue, green), gender (male, female), types of animals (dog, cat, bird).\n",
    "Ordinal Scale:\n",
    "\n",
    "Definition: Represents categories with a meaningful order or ranking, but the intervals between ranks are not equal.\n",
    "Examples: Education level (high school, bachelor’s, master’s), satisfaction ratings (satisfied, neutral, dissatisfied).\n",
    "Quantitative Data:\n",
    "Quantitative data represents numerical values and can be measured. It is divided into:\n",
    "\n",
    "Interval Scale:\n",
    "\n",
    "Definition: Numeric scale with equal intervals between values, but no true zero point.\n",
    "Examples: Temperature in Celsius or Fahrenheit, calendar years (2000, 2001, 2002).\n",
    "Ratio Scale:\n",
    "\n",
    "Definition: Numeric scale with equal intervals and a true zero point, allowing for meaningful comparisons of ratios.\n",
    "Examples: Height, weight, age, income.\n",
    "Understanding these data types and scales is crucial for selecting appropriate statistical methods and visualizations.\n",
    "\"\"\""
   ]
  },
  {
   "cell_type": "code",
   "execution_count": 3,
   "id": "61294c61",
   "metadata": {},
   "outputs": [],
   "source": [
    "#Q2)  What are the measures of central tendency, and when should you use each? \n",
    "#Discuss the mean, median, and mode with examples and situations where each is appropriate."
   ]
  },
  {
   "cell_type": "code",
   "execution_count": 5,
   "id": "0541e8e8",
   "metadata": {},
   "outputs": [
    {
     "data": {
      "text/plain": [
       "'\\nMeasures of central tendency describe the center of a data set and include the mean, median, and mode. \\nEach measure is useful in different situations:\\n\\nMean:\\n\\nDefinition: The average of all data points, calculated by summing the values and dividing by the number of values.\\nExample: For the data set [2, 3, 5, 7], the mean is (2 + 3 + 5 + 7) / 4 = 4.25.\\nWhen to Use: Appropriate for symmetric distributions without outliers. It provides a balanced central value but can be skewed by extreme values.\\nMedian:\\n\\nDefinition: The middle value when data points are ordered. If the number of data points is even, the median is the average of the two middle values.\\nExample: For the data set [2, 3, 5, 7], the median is (3 + 5) / 2 = 4.\\nWhen to Use: Suitable for skewed distributions or when outliers are present, as it is not affected by extreme values.\\nMode:\\n\\nDefinition: The most frequently occurring value(s) in a data set.\\nExample: For the data set [2, 3, 3, 5, 7], the mode is 3.\\nWhen to Use: Useful for categorical data or when identifying the most common value is important. It can be used with any data type.\\nChoosing the appropriate measure depends on the data distribution and the presence of outliers.\\n'"
      ]
     },
     "execution_count": 5,
     "metadata": {},
     "output_type": "execute_result"
    }
   ],
   "source": [
    "\"\"\"\n",
    "Measures of central tendency describe the center of a data set and include the mean, median, and mode. \n",
    "Each measure is useful in different situations:\n",
    "\n",
    "Mean:\n",
    "\n",
    "Definition: The average of all data points, calculated by summing the values and dividing by the number of values.\n",
    "Example: For the data set [2, 3, 5, 7], the mean is (2 + 3 + 5 + 7) / 4 = 4.25.\n",
    "When to Use: Appropriate for symmetric distributions without outliers. It provides a balanced central value but can be skewed by extreme values.\n",
    "Median:\n",
    "\n",
    "Definition: The middle value when data points are ordered. If the number of data points is even, the median is the average of the two middle values.\n",
    "Example: For the data set [2, 3, 5, 7], the median is (3 + 5) / 2 = 4.\n",
    "When to Use: Suitable for skewed distributions or when outliers are present, as it is not affected by extreme values.\n",
    "Mode:\n",
    "\n",
    "Definition: The most frequently occurring value(s) in a data set.\n",
    "Example: For the data set [2, 3, 3, 5, 7], the mode is 3.\n",
    "When to Use: Useful for categorical data or when identifying the most common value is important. It can be used with any data type.\n",
    "Choosing the appropriate measure depends on the data distribution and the presence of outliers.\n",
    "\"\"\""
   ]
  },
  {
   "cell_type": "code",
   "execution_count": 6,
   "id": "543a7201",
   "metadata": {},
   "outputs": [],
   "source": [
    "#Q3) Explain the concept of dispersion. How do variance and standard deviation measure the spread of data?"
   ]
  },
  {
   "cell_type": "code",
   "execution_count": 7,
   "id": "4f18d4f6",
   "metadata": {},
   "outputs": [
    {
     "data": {
      "text/plain": [
       "'\\nDispersion refers to the extent to which data points in a dataset are spread out or scattered. It provides insights into the variability or consistency of the data.\\n\\nVariance:\\nDefinition: Variance measures the average squared deviation of each data point from the mean. It quantifies how much the data points differ from the mean.\\nCalculation: For a dataset with values ( x_1, x_2, \\\\ldots, x_n ) and mean ( \\\\mu ), the variance ( \\\\sigma^2 ) \\n\\n\\n \\nInterpretation: A higher variance indicates greater spread, while a lower variance suggests data points are closer to the mean.\\nStandard Deviation:\\nDefinition: Standard deviation is the square root of the variance, providing a measure of dispersion in the same units as the data.\\n\\nInterpretation: Like variance, a higher standard deviation indicates more spread. It is often preferred because it is in the same units as the data, making it easier to interpret.\\nBoth variance and standard deviation are essential for understanding data variability, helping to assess risk, consistency, and reliability in various contexts.\\n'"
      ]
     },
     "execution_count": 7,
     "metadata": {},
     "output_type": "execute_result"
    }
   ],
   "source": [
    "\"\"\"\n",
    "Dispersion refers to the extent to which data points in a dataset are spread out or scattered. It provides insights into the variability or consistency of the data.\n",
    "\n",
    "Variance:\n",
    "Definition: Variance measures the average squared deviation of each data point from the mean. It quantifies how much the data points differ from the mean.\n",
    "Calculation: For a dataset with values ( x_1, x_2, \\ldots, x_n ) and mean ( \\mu ), the variance ( \\sigma^2 ) \n",
    "\n",
    "\n",
    " \n",
    "Interpretation: A higher variance indicates greater spread, while a lower variance suggests data points are closer to the mean.\n",
    "Standard Deviation:\n",
    "Definition: Standard deviation is the square root of the variance, providing a measure of dispersion in the same units as the data.\n",
    "\n",
    "Interpretation: Like variance, a higher standard deviation indicates more spread. It is often preferred because it is in the same units as the data, making it easier to interpret.\n",
    "Both variance and standard deviation are essential for understanding data variability, helping to assess risk, consistency, and reliability in various contexts.\n",
    "\"\"\""
   ]
  },
  {
   "cell_type": "code",
   "execution_count": 8,
   "id": "d3f2fc86",
   "metadata": {},
   "outputs": [
    {
     "data": {
      "image/png": "[encoded data removed]",
      "text/plain": [
       "<Figure size 640x480 with 1 Axes>"
      ]
     },
     "metadata": {},
     "output_type": "display_data"
    }
   ],
   "source": [
    "\"\"\"\n",
    "A box plot, also known as a whisker plot, is a graphical representation of the distribution of a dataset. \n",
    "It provides a visual summary of key statistics, including the median, quartiles, and potential outliers.\n",
    "\n",
    "Components of a Box Plot:\n",
    "Box: Represents the interquartile range (IQR), which contains the middle 50% of the data.\n",
    "Median Line: A line inside the box indicates the median (50th percentile) of the data.\n",
    "Whiskers: Extend from the box to the smallest and largest values within 1.5 times the IQR from the lower and upper quartiles.\n",
    "Outliers: Data points outside the whiskers are considered outliers and are plotted as individual points.\n",
    "What a Box Plot Reveals:\n",
    "Central Tendency: The median line shows the central value of the data.\n",
    "Spread: The width of the box and length of the whiskers indicate data variability.\n",
    "Skewness: The position of the median line within the box and the length of the whiskers can suggest skewness.\n",
    "Outliers: Points outside the whiskers highlight potential outliers.\n",
    "\"\"\"\n",
    "import matplotlib.pyplot as plt\n",
    "\n",
    "# Sample data\n",
    "data = [1, 2, 2, 3, 4, 5, 5, 6, 7, 8, 9, 10, 10, 11, 12]\n",
    "\n",
    "# Create a box plot\n",
    "plt.boxplot(data)\n",
    "\n",
    "# Add title and labels\n",
    "plt.title('Box Plot of Data')\n",
    "plt.ylabel('Values')\n",
    "\n",
    "# Display plot\n",
    "plt.show()\n"
   ]
  },
  {
   "cell_type": "code",
   "execution_count": 9,
   "id": "68fc6676",
   "metadata": {},
   "outputs": [],
   "source": [
    "#Q5)  Discuss the role of random sampling in making inferences about populations."
   ]
  },
  {
   "cell_type": "code",
   "execution_count": 10,
   "id": "11cbf2cf",
   "metadata": {},
   "outputs": [
    {
     "data": {
      "text/plain": [
       "'\\nRandom sampling plays a crucial role in making inferences about populations by ensuring that the sample selected is representative of the entire population. \\nThis allows for generalizations and conclusions to be drawn with a known level of confidence. \\nHere’s how random sampling contributes to statistical inference:\\n\\nRepresentation: Random sampling ensures that every member of the population has an equal chance of being selected. \\nThis minimizes bias and increases the likelihood that the sample accurately reflects the population’s characteristics.\\n\\nGeneralization: By using a representative sample, researchers can generalize findings from the sample to the entire population. \\nThis is essential for making predictions and informed decisions.\\n\\nEstimation: Random sampling allows for the estimation of population parameters (e.g., mean, proportion) with known margins of error. \\nThis is achieved through statistical techniques that account for sample variability.\\n\\nHypothesis Testing: It provides a basis for hypothesis testing, where researchers can test assumptions about the population using sample data. Random sampling ensures the validity of statistical tests.\\n\\nReducing Bias: Random sampling reduces selection bias, which can skew results and lead to incorrect conclusions.\\n\\nOverall, random sampling is fundamental to the reliability and validity of statistical inferences, enabling researchers to draw meaningful conclusions about populations based on sample data.\\n'"
      ]
     },
     "execution_count": 10,
     "metadata": {},
     "output_type": "execute_result"
    }
   ],
   "source": [
    "\"\"\"\n",
    "Random sampling plays a crucial role in making inferences about populations by ensuring that the sample selected is representative of the entire population. \n",
    "This allows for generalizations and conclusions to be drawn with a known level of confidence. \n",
    "Here’s how random sampling contributes to statistical inference:\n",
    "\n",
    "Representation: Random sampling ensures that every member of the population has an equal chance of being selected. \n",
    "This minimizes bias and increases the likelihood that the sample accurately reflects the population’s characteristics.\n",
    "\n",
    "Generalization: By using a representative sample, researchers can generalize findings from the sample to the entire population. \n",
    "This is essential for making predictions and informed decisions.\n",
    "\n",
    "Estimation: Random sampling allows for the estimation of population parameters (e.g., mean, proportion) with known margins of error. \n",
    "This is achieved through statistical techniques that account for sample variability.\n",
    "\n",
    "Hypothesis Testing: It provides a basis for hypothesis testing, where researchers can test assumptions about the population using sample data. Random sampling ensures the validity of statistical tests.\n",
    "\n",
    "Reducing Bias: Random sampling reduces selection bias, which can skew results and lead to incorrect conclusions.\n",
    "\n",
    "Overall, random sampling is fundamental to the reliability and validity of statistical inferences, enabling researchers to draw meaningful conclusions about populations based on sample data.\n",
    "\"\"\""
   ]
  },
  {
   "cell_type": "code",
   "execution_count": 11,
   "id": "2a743175",
   "metadata": {},
   "outputs": [],
   "source": [
    "#Q6) Explain the concept of skewness and its types. How does skewness affect the interpretation of data?"
   ]
  },
  {
   "cell_type": "code",
   "execution_count": 12,
   "id": "34eaea5a",
   "metadata": {},
   "outputs": [
    {
     "data": {
      "text/plain": [
       "'\\nSkewness is a measure of the asymmetry in the distribution of data. \\nIt indicates whether the data points are more concentrated on one side of the distribution’s mean.\\nUnderstanding skewness helps in interpreting the shape and characteristics of the data distribution.\\n\\nTypes of Skewness:\\nPositive Skewness (Right Skewed):\\n\\nDescription: The tail on the right side of the distribution is longer or fatter than the left side.\\nEffect: The mean is greater than the median, and the data has a few high outliers.\\nExample: Income distribution, where a few individuals earn significantly more than the rest.\\nNegative Skewness (Left Skewed):\\n\\nDescription: The tail on the left side of the distribution is longer or fatter than the right side.\\nEffect: The mean is less than the median, and the data has a few low outliers.\\nExample: Age at retirement, where most people retire around a certain age, but a few retire much earlier.\\nZero Skewness (Symmetrical):\\n\\nDescription: The distribution is symmetrical, with tails of equal length on both sides.\\nEffect: The mean and median are approximately equal.\\nExample: Heights of adult men in a specific population.\\nImpact of Skewness on Data Interpretation:\\nCentral Tendency: Skewness affects the relationship between the mean and median. \\nIn skewed distributions, the mean is pulled in the direction of the skew.\\nData Analysis: Skewness can impact statistical analyses, such as regression, which assume normality. \\nTransformations may be needed to normalize skewed data.\\nDecision Making: Understanding skewness helps in making informed decisions, \\nespecially in fields like finance and quality control, where outliers can significantly impact results.\\nRecognizing skewness is essential for accurate data analysis and interpretation, \\nas it influences the choice of statistical methods and the conclusions drawn from the data.\\n'"
      ]
     },
     "execution_count": 12,
     "metadata": {},
     "output_type": "execute_result"
    }
   ],
   "source": [
    "\"\"\"\n",
    "Skewness is a measure of the asymmetry in the distribution of data. \n",
    "It indicates whether the data points are more concentrated on one side of the distribution’s mean.\n",
    "Understanding skewness helps in interpreting the shape and characteristics of the data distribution.\n",
    "\n",
    "Types of Skewness:\n",
    "Positive Skewness (Right Skewed):\n",
    "\n",
    "Description: The tail on the right side of the distribution is longer or fatter than the left side.\n",
    "Effect: The mean is greater than the median, and the data has a few high outliers.\n",
    "Example: Income distribution, where a few individuals earn significantly more than the rest.\n",
    "Negative Skewness (Left Skewed):\n",
    "\n",
    "Description: The tail on the left side of the distribution is longer or fatter than the right side.\n",
    "Effect: The mean is less than the median, and the data has a few low outliers.\n",
    "Example: Age at retirement, where most people retire around a certain age, but a few retire much earlier.\n",
    "Zero Skewness (Symmetrical):\n",
    "\n",
    "Description: The distribution is symmetrical, with tails of equal length on both sides.\n",
    "Effect: The mean and median are approximately equal.\n",
    "Example: Heights of adult men in a specific population.\n",
    "Impact of Skewness on Data Interpretation:\n",
    "Central Tendency: Skewness affects the relationship between the mean and median. \n",
    "In skewed distributions, the mean is pulled in the direction of the skew.\n",
    "Data Analysis: Skewness can impact statistical analyses, such as regression, which assume normality. \n",
    "Transformations may be needed to normalize skewed data.\n",
    "Decision Making: Understanding skewness helps in making informed decisions, \n",
    "especially in fields like finance and quality control, where outliers can significantly impact results.\n",
    "Recognizing skewness is essential for accurate data analysis and interpretation, \n",
    "as it influences the choice of statistical methods and the conclusions drawn from the data.\n",
    "\"\"\""
   ]
  },
  {
   "cell_type": "code",
   "execution_count": 14,
   "id": "60d448b6",
   "metadata": {},
   "outputs": [],
   "source": [
    "#Q7) . What is the interquartile range (IQR), and how is it used to detect outliers?"
   ]
  },
  {
   "cell_type": "code",
   "execution_count": 13,
   "id": "85cf60b3",
   "metadata": {},
   "outputs": [
    {
     "data": {
      "text/plain": [
       "'\\nThe interquartile range (IQR) is a measure of statistical dispersion, representing the range within which the middle 50% of data points lie. It is calculated as the difference between the third quartile (Q3) and the first quartile (Q1):\\nIQR=Q3−Q1\\nHow IQR is Used to Detect Outliers:\\nCalculate Quartiles: Determine the first quartile (Q1) and third quartile (Q3) of the dataset.\\n\\nCompute IQR: Subtract Q1 from Q3 to find the IQR.\\n\\nDetermine Outlier Boundaries:\\n\\nLower Bound: ( Q1 - 1.5 \\times IQR )\\nUpper Bound: ( Q3 + 1.5 \\times IQR )\\nIdentify Outliers: Data points falling below the lower bound or above the upper bound are considered outliers.\\n\\nExample:\\nConsider a dataset: [1, 2, 3, 4, 5, 6, 7, 8, 9, 10, 100]\\n\\nQ1: 3\\nQ3: 9\\nIQR: ( 9 - 3 = 6 )\\nLower Bound: ( 3 - 1.5 \\times 6 = -6 )\\nUpper Bound: ( 9 + 1.5 \\times 6 = 18 )\\nIn this example, 100 is an outlier as it exceeds the upper bound of 18.\\n\\nImportance:\\nRobustness: IQR is robust to extreme values, making it a reliable measure for detecting outliers.\\nData Cleaning: Identifying outliers helps in data cleaning and ensuring the quality of data analysis.\\nThe IQR is a valuable tool for understanding data variability and identifying potential anomalies.\\n'"
      ]
     },
     "execution_count": 13,
     "metadata": {},
     "output_type": "execute_result"
    }
   ],
   "source": [
    "\"\"\"\n",
    "The interquartile range (IQR) is a measure of statistical dispersion, representing the range within which the middle 50% of data points lie. It is calculated as the difference between the third quartile (Q3) and the first quartile (Q1):\n",
    "IQR=Q3−Q1\n",
    "How IQR is Used to Detect Outliers:\n",
    "Calculate Quartiles: Determine the first quartile (Q1) and third quartile (Q3) of the dataset.\n",
    "\n",
    "Compute IQR: Subtract Q1 from Q3 to find the IQR.\n",
    "\n",
    "Determine Outlier Boundaries:\n",
    "\n",
    "Lower Bound: ( Q1 - 1.5 \\times IQR )\n",
    "Upper Bound: ( Q3 + 1.5 \\times IQR )\n",
    "Identify Outliers: Data points falling below the lower bound or above the upper bound are considered outliers.\n",
    "\n",
    "Example:\n",
    "Consider a dataset: [1, 2, 3, 4, 5, 6, 7, 8, 9, 10, 100]\n",
    "\n",
    "Q1: 3\n",
    "Q3: 9\n",
    "IQR: ( 9 - 3 = 6 )\n",
    "Lower Bound: ( 3 - 1.5 \\times 6 = -6 )\n",
    "Upper Bound: ( 9 + 1.5 \\times 6 = 18 )\n",
    "In this example, 100 is an outlier as it exceeds the upper bound of 18.\n",
    "\n",
    "Importance:\n",
    "Robustness: IQR is robust to extreme values, making it a reliable measure for detecting outliers.\n",
    "Data Cleaning: Identifying outliers helps in data cleaning and ensuring the quality of data analysis.\n",
    "The IQR is a valuable tool for understanding data variability and identifying potential anomalies.\n",
    "\"\"\""
   ]
  },
  {
   "cell_type": "code",
   "execution_count": null,
   "id": "3ac7c1e2",
   "metadata": {},
   "outputs": [],
   "source": [
    "#Q11) "
   ]
  },
  {
   "cell_type": "code",
   "execution_count": 15,
   "id": "f8997fe0",
   "metadata": {},
   "outputs": [
    {
     "data": {
      "text/plain": [
       "'\\nA random variable is a numerical outcome of a random phenomenon. \\nIt assigns a numerical value to each possible outcome in a sample space, allowing for the quantification and analysis of random events.\\n\\nTypes of Random Variables:\\nDiscrete Random Variables:\\n\\nDefinition: A discrete random variable takes on a countable number of distinct values. \\nThese values are often whole numbers.\\nExamples:\\nNumber of heads in a series of coin tosses.\\nNumber of students in a classroom.\\nCharacteristics: Discrete random variables are often associated with events that can be counted, and they have a probability mass function (PMF) that assigns probabilities to each possible value.\\nContinuous Random Variables:\\n\\nDefinition: A continuous random variable takes on an infinite number of possible values within a given range. \\nThese values are often real numbers.\\nExamples:\\nHeight of individuals.\\nTime taken to complete a task.\\nCharacteristics: Continuous random variables are associated with measurements and have a probability density function (PDF) that describes the likelihood of the variable taking on a particular value within an interval.\\nKey Differences:\\nValues: Discrete random variables have specific, countable values, while continuous random variables can take any value within a range.\\nProbability Functions: Discrete variables use a PMF, while continuous variables use a PDF.\\nNature: Discrete variables are often related to counting, whereas continuous variables are related to measuring.\\nUnderstanding the type of random variable is crucial for selecting appropriate statistical methods and analyses.\\n'"
      ]
     },
     "execution_count": 15,
     "metadata": {},
     "output_type": "execute_result"
    }
   ],
   "source": [
    "\"\"\"\n",
    "A random variable is a numerical outcome of a random phenomenon. \n",
    "It assigns a numerical value to each possible outcome in a sample space, allowing for the quantification and analysis of random events.\n",
    "\n",
    "Types of Random Variables:\n",
    "Discrete Random Variables:\n",
    "\n",
    "Definition: A discrete random variable takes on a countable number of distinct values. \n",
    "These values are often whole numbers.\n",
    "Examples:\n",
    "Number of heads in a series of coin tosses.\n",
    "Number of students in a classroom.\n",
    "Characteristics: Discrete random variables are often associated with events that can be counted, and they have a probability mass function (PMF) that assigns probabilities to each possible value.\n",
    "Continuous Random Variables:\n",
    "\n",
    "Definition: A continuous random variable takes on an infinite number of possible values within a given range. \n",
    "These values are often real numbers.\n",
    "Examples:\n",
    "Height of individuals.\n",
    "Time taken to complete a task.\n",
    "Characteristics: Continuous random variables are associated with measurements and have a probability density function (PDF) that describes the likelihood of the variable taking on a particular value within an interval.\n",
    "Key Differences:\n",
    "Values: Discrete random variables have specific, countable values, while continuous random variables can take any value within a range.\n",
    "Probability Functions: Discrete variables use a PMF, while continuous variables use a PDF.\n",
    "Nature: Discrete variables are often related to counting, whereas continuous variables are related to measuring.\n",
    "Understanding the type of random variable is crucial for selecting appropriate statistical methods and analyses.\n",
    "\"\"\""
   ]
  },
  {
   "cell_type": "code",
   "execution_count": 16,
   "id": "c949ec1f",
   "metadata": {},
   "outputs": [],
   "source": [
    "#Q12) Provide an example dataset, calculate both covariance and correlation, and interpret the results."
   ]
  },
  {
   "cell_type": "code",
   "execution_count": 17,
   "id": "10e5f3ee",
   "metadata": {},
   "outputs": [],
   "source": [
    "\"\"\"\n",
    "To calculate covariance and correlation using Python, follow these steps with an example dataset:\n",
    "\n",
    "Example Dataset:\n",
    "Let’s consider a dataset with two variables, X and Y:\n",
    "\"\"\"\n",
    "import numpy as np\n",
    "import pandas as pd\n",
    "\n",
    "# Create a DataFrame\n",
    "data = {\n",
    "    'X': [1, 2, 3, 4, 5],\n",
    "    'Y': [2, 4, 6, 8, 10]\n",
    "}\n",
    "\n",
    "df = pd.DataFrame(data)\n"
   ]
  },
  {
   "cell_type": "code",
   "execution_count": 18,
   "id": "0096240e",
   "metadata": {},
   "outputs": [
    {
     "name": "stdout",
     "output_type": "stream",
     "text": [
      "Covariance between X and Y: 5.0\n"
     ]
    }
   ],
   "source": [
    "# Calculate covariance matrix\n",
    "cov_matrix = df.cov()\n",
    "\n",
    "# Extract covariance between X and Y\n",
    "cov_xy = cov_matrix.loc['X', 'Y']\n",
    "print(\"Covariance between X and Y:\", cov_xy)\n"
   ]
  },
  {
   "cell_type": "code",
   "execution_count": 19,
   "id": "16bad08d",
   "metadata": {},
   "outputs": [
    {
     "name": "stdout",
     "output_type": "stream",
     "text": [
      "Correlation between X and Y: 1.0\n"
     ]
    }
   ],
   "source": [
    "# Calculate correlation matrix\n",
    "corr_matrix = df.corr()\n",
    "\n",
    "# Extract correlation between X and Y\n",
    "corr_xy = corr_matrix.loc['X', 'Y']\n",
    "print(\"Correlation between X and Y:\", corr_xy)\n"
   ]
  },
  {
   "cell_type": "code",
   "execution_count": null,
   "id": "32f3f7f8",
   "metadata": {},
   "outputs": [],
   "source": []
  }
 ],
 "metadata": {
  "kernelspec": {
   "display_name": "Python 3 (ipykernel)",
   "language": "python",
   "name": "python3"
  },
  "language_info": {
   "codemirror_mode": {
    "name": "ipython",
    "version": 3
   },
   "file_extension": ".py",
   "mimetype": "text/x-python",
   "name": "python",
   "nbconvert_exporter": "python",
   "pygments_lexer": "ipython3",
   "version": "3.11.5"
  }
 },
 "nbformat": 4,
 "nbformat_minor": 5
}
